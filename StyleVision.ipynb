{
 "cells": [
  {
   "cell_type": "code",
   "execution_count": null,
   "id": "7f53bf33",
   "metadata": {},
   "outputs": [],
   "source": []
  },
  {
   "cell_type": "code",
   "execution_count": 1,
   "id": "0300e755",
   "metadata": {},
   "outputs": [],
   "source": [
    "import numpy as np\n",
    "import pandas as pd\n",
    "import matplotlib.pyplot as plt\n",
    "import itertools\n",
    "\n",
    "from sklearn.model_selection import train_test_split\n",
    "from sklearn.utils import shuffle\n",
    "from sklearn.metrics import confusion_matrix, classification_report\n",
    "\n",
    "import tensorflow as tf\n",
    "\n",
    "import keras\n",
    "from keras.models import Sequential\n",
    "from keras.utils import to_categorical\n",
    "from keras.utils.vis_utils import plot_model\n",
    "from keras.optimizers import Adam\n",
    "from keras.layers import Dense, Activation, Dropout, Flatten, Conv2D, MaxPooling2D, BatchNormalization, ZeroPadding2D\n",
    "from keras.preprocessing.image import ImageDataGenerator\n",
    "from keras.callbacks import EarlyStopping"
   ]
  },
  {
   "cell_type": "code",
   "execution_count": 2,
   "id": "b1142441",
   "metadata": {},
   "outputs": [
    {
     "data": {
      "text/html": [
       "<div>\n",
       "<style scoped>\n",
       "    .dataframe tbody tr th:only-of-type {\n",
       "        vertical-align: middle;\n",
       "    }\n",
       "\n",
       "    .dataframe tbody tr th {\n",
       "        vertical-align: top;\n",
       "    }\n",
       "\n",
       "    .dataframe thead th {\n",
       "        text-align: right;\n",
       "    }\n",
       "</style>\n",
       "<table border=\"1\" class=\"dataframe\">\n",
       "  <thead>\n",
       "    <tr style=\"text-align: right;\">\n",
       "      <th></th>\n",
       "      <th>label</th>\n",
       "      <th>pixel1</th>\n",
       "      <th>pixel2</th>\n",
       "      <th>pixel3</th>\n",
       "      <th>pixel4</th>\n",
       "      <th>pixel5</th>\n",
       "      <th>pixel6</th>\n",
       "      <th>pixel7</th>\n",
       "      <th>pixel8</th>\n",
       "      <th>pixel9</th>\n",
       "      <th>...</th>\n",
       "      <th>pixel775</th>\n",
       "      <th>pixel776</th>\n",
       "      <th>pixel777</th>\n",
       "      <th>pixel778</th>\n",
       "      <th>pixel779</th>\n",
       "      <th>pixel780</th>\n",
       "      <th>pixel781</th>\n",
       "      <th>pixel782</th>\n",
       "      <th>pixel783</th>\n",
       "      <th>pixel784</th>\n",
       "    </tr>\n",
       "  </thead>\n",
       "  <tbody>\n",
       "    <tr>\n",
       "      <th>0</th>\n",
       "      <td>2</td>\n",
       "      <td>0</td>\n",
       "      <td>0</td>\n",
       "      <td>0</td>\n",
       "      <td>0</td>\n",
       "      <td>0</td>\n",
       "      <td>0</td>\n",
       "      <td>0</td>\n",
       "      <td>0</td>\n",
       "      <td>0</td>\n",
       "      <td>...</td>\n",
       "      <td>0</td>\n",
       "      <td>0</td>\n",
       "      <td>0</td>\n",
       "      <td>0</td>\n",
       "      <td>0</td>\n",
       "      <td>0</td>\n",
       "      <td>0</td>\n",
       "      <td>0</td>\n",
       "      <td>0</td>\n",
       "      <td>0</td>\n",
       "    </tr>\n",
       "    <tr>\n",
       "      <th>1</th>\n",
       "      <td>9</td>\n",
       "      <td>0</td>\n",
       "      <td>0</td>\n",
       "      <td>0</td>\n",
       "      <td>0</td>\n",
       "      <td>0</td>\n",
       "      <td>0</td>\n",
       "      <td>0</td>\n",
       "      <td>0</td>\n",
       "      <td>0</td>\n",
       "      <td>...</td>\n",
       "      <td>0</td>\n",
       "      <td>0</td>\n",
       "      <td>0</td>\n",
       "      <td>0</td>\n",
       "      <td>0</td>\n",
       "      <td>0</td>\n",
       "      <td>0</td>\n",
       "      <td>0</td>\n",
       "      <td>0</td>\n",
       "      <td>0</td>\n",
       "    </tr>\n",
       "    <tr>\n",
       "      <th>2</th>\n",
       "      <td>6</td>\n",
       "      <td>0</td>\n",
       "      <td>0</td>\n",
       "      <td>0</td>\n",
       "      <td>0</td>\n",
       "      <td>0</td>\n",
       "      <td>0</td>\n",
       "      <td>0</td>\n",
       "      <td>5</td>\n",
       "      <td>0</td>\n",
       "      <td>...</td>\n",
       "      <td>0</td>\n",
       "      <td>0</td>\n",
       "      <td>0</td>\n",
       "      <td>30</td>\n",
       "      <td>43</td>\n",
       "      <td>0</td>\n",
       "      <td>0</td>\n",
       "      <td>0</td>\n",
       "      <td>0</td>\n",
       "      <td>0</td>\n",
       "    </tr>\n",
       "    <tr>\n",
       "      <th>3</th>\n",
       "      <td>0</td>\n",
       "      <td>0</td>\n",
       "      <td>0</td>\n",
       "      <td>0</td>\n",
       "      <td>1</td>\n",
       "      <td>2</td>\n",
       "      <td>0</td>\n",
       "      <td>0</td>\n",
       "      <td>0</td>\n",
       "      <td>0</td>\n",
       "      <td>...</td>\n",
       "      <td>3</td>\n",
       "      <td>0</td>\n",
       "      <td>0</td>\n",
       "      <td>0</td>\n",
       "      <td>0</td>\n",
       "      <td>1</td>\n",
       "      <td>0</td>\n",
       "      <td>0</td>\n",
       "      <td>0</td>\n",
       "      <td>0</td>\n",
       "    </tr>\n",
       "    <tr>\n",
       "      <th>4</th>\n",
       "      <td>3</td>\n",
       "      <td>0</td>\n",
       "      <td>0</td>\n",
       "      <td>0</td>\n",
       "      <td>0</td>\n",
       "      <td>0</td>\n",
       "      <td>0</td>\n",
       "      <td>0</td>\n",
       "      <td>0</td>\n",
       "      <td>0</td>\n",
       "      <td>...</td>\n",
       "      <td>0</td>\n",
       "      <td>0</td>\n",
       "      <td>0</td>\n",
       "      <td>0</td>\n",
       "      <td>0</td>\n",
       "      <td>0</td>\n",
       "      <td>0</td>\n",
       "      <td>0</td>\n",
       "      <td>0</td>\n",
       "      <td>0</td>\n",
       "    </tr>\n",
       "  </tbody>\n",
       "</table>\n",
       "<p>5 rows × 785 columns</p>\n",
       "</div>"
      ],
      "text/plain": [
       "   label  pixel1  pixel2  pixel3  pixel4  pixel5  pixel6  pixel7  pixel8  \\\n",
       "0      2       0       0       0       0       0       0       0       0   \n",
       "1      9       0       0       0       0       0       0       0       0   \n",
       "2      6       0       0       0       0       0       0       0       5   \n",
       "3      0       0       0       0       1       2       0       0       0   \n",
       "4      3       0       0       0       0       0       0       0       0   \n",
       "\n",
       "   pixel9  ...  pixel775  pixel776  pixel777  pixel778  pixel779  pixel780  \\\n",
       "0       0  ...         0         0         0         0         0         0   \n",
       "1       0  ...         0         0         0         0         0         0   \n",
       "2       0  ...         0         0         0        30        43         0   \n",
       "3       0  ...         3         0         0         0         0         1   \n",
       "4       0  ...         0         0         0         0         0         0   \n",
       "\n",
       "   pixel781  pixel782  pixel783  pixel784  \n",
       "0         0         0         0         0  \n",
       "1         0         0         0         0  \n",
       "2         0         0         0         0  \n",
       "3         0         0         0         0  \n",
       "4         0         0         0         0  \n",
       "\n",
       "[5 rows x 785 columns]"
      ]
     },
     "execution_count": 2,
     "metadata": {},
     "output_type": "execute_result"
    }
   ],
   "source": [
    "train_data = pd.read_csv('fashion-mnist_train.csv')\n",
    "test_data = pd.read_csv('fashion-mnist_test.csv')\n",
    "\n",
    "train_data.head()\n"
   ]
  },
  {
   "cell_type": "code",
   "execution_count": 3,
   "id": "e2e2e636",
   "metadata": {},
   "outputs": [
    {
     "name": "stdout",
     "output_type": "stream",
     "text": [
      "train data shape : (60000, 785)\n",
      "test data shape : (10000, 785)\n"
     ]
    }
   ],
   "source": [
    "print('train data shape : {}'.format(train_data.shape))\n",
    "print('test data shape : {}'.format(test_data.shape))"
   ]
  },
  {
   "cell_type": "code",
   "execution_count": 4,
   "id": "10b3f659",
   "metadata": {},
   "outputs": [],
   "source": [
    "train_data = np.array(train_data, dtype= 'float32')\n",
    "test_data = np.array(test_data, dtype= 'float32')"
   ]
  },
  {
   "cell_type": "code",
   "execution_count": 5,
   "id": "0b3e9a81",
   "metadata": {},
   "outputs": [],
   "source": [
    "#Slicing the labels and Normalizing the pixel data.\n",
    "X_train_orig = train_data[:, 1:]/ 255\n",
    "y_train_orig = train_data[:, 0]\n",
    "\n",
    "X_test = test_data[:, 1:]/ 255\n",
    "Y_test = test_data[:, 0]"
   ]
  },
  {
   "cell_type": "code",
   "execution_count": 6,
   "id": "42caf875",
   "metadata": {},
   "outputs": [],
   "source": [
    "\n",
    "X_train, X_validate, y_train, y_validate = train_test_split(X_train_orig, y_train_orig, test_size = 0.2, random_state=42)"
   ]
  },
  {
   "cell_type": "code",
   "execution_count": 7,
   "id": "72d2a6c5",
   "metadata": {},
   "outputs": [
    {
     "data": {
      "image/png": "[encoded data removed]",
      "text/plain": [
       "<Figure size 1296x432 with 4 Axes>"
      ]
     },
     "metadata": {
      "needs_background": "light"
     },
     "output_type": "display_data"
    }
   ],
   "source": [
    "# Data Exploration.\n",
    "plt.figure(figsize = (18,6))\n",
    "\n",
    "plt.subplot(141)\n",
    "image = X_train[49].reshape(28, 28)\n",
    "plt.imshow(image)\n",
    "\n",
    "plt.subplot(142)\n",
    "image = X_train[3].reshape(28, 28)\n",
    "plt.imshow(image)\n",
    "\n",
    "plt.subplot(143)\n",
    "image = X_train[6].reshape(28, 28)\n",
    "plt.imshow(image)\n",
    "\n",
    "plt.subplot(144)\n",
    "image = X_train[8].reshape(28, 28)\n",
    "plt.imshow(image)\n",
    "plt.show()"
   ]
  },
  {
   "cell_type": "code",
   "execution_count": null,
   "id": "4eff3858",
   "metadata": {},
   "outputs": [],
   "source": []
  },
  {
   "cell_type": "code",
   "execution_count": 8,
   "id": "3ed94c9d",
   "metadata": {},
   "outputs": [
    {
     "name": "stdout",
     "output_type": "stream",
     "text": [
      "x_train shape: (48000, 28, 28, 1)\n",
      "x_test shape: (10000, 28, 28, 1)\n",
      "x_validate shape: (12000, 28, 28, 1)\n"
     ]
    }
   ],
   "source": [
    "#Data Preprocessing-reshape, labelling\n",
    "\n",
    "image_rows = 28\n",
    "image_cols = 28\n",
    "input_shape = (image_rows, image_cols, 1)\n",
    "\n",
    "X_train = X_train.reshape(X_train.shape[0], image_rows, image_cols, 1)\n",
    "X_test = X_test.reshape(X_test.shape[0], image_rows, image_cols, 1)\n",
    "X_validate = X_validate.reshape(X_validate.shape[0], image_rows, image_cols, 1)\n",
    "\n",
    "print('x_train shape: {}'.format(X_train.shape))\n",
    "print('x_test shape: {}'.format(X_test.shape))\n",
    "print('x_validate shape: {}'.format(X_validate.shape))\n",
    "\n",
    "# One-hot encoding\n",
    "y_train = to_categorical(y_train, 10)\n",
    "y_validate = to_categorical(y_validate, 10)\n",
    "y_test = to_categorical(Y_test, 10)"
   ]
  },
  {
   "cell_type": "code",
   "execution_count": null,
   "id": "56bd4383",
   "metadata": {},
   "outputs": [],
   "source": []
  },
  {
   "cell_type": "code",
   "execution_count": 10,
   "id": "6abc6d1f",
   "metadata": {},
   "outputs": [],
   "source": [
    "#CNN - 1 Convolution layer\n",
    "\n",
    "cnn_model1 = Sequential()\n",
    "\n",
    "cnn_model1.add(Conv2D(32, kernel_size=(3, 3), activation='relu', input_shape=input_shape))\n",
    "cnn_model1.add(MaxPooling2D(pool_size=(2, 2)))\n",
    "\n",
    "cnn_model1.add(Dropout(0.25))\n",
    "\n",
    "cnn_model1.add(Flatten()) \n",
    "\n",
    "cnn_model1.add(Dense(128, activation='relu'))\n",
    "cnn_model1.add(Dropout(0.3))\n",
    "\n",
    "cnn_model1.add(Dense(10, activation='softmax'))\n"
   ]
  },
  {
   "cell_type": "code",
   "execution_count": 11,
   "id": "cf8719cf",
   "metadata": {},
   "outputs": [
    {
     "name": "stdout",
     "output_type": "stream",
     "text": [
      "Model: \"sequential\"\n",
      "_________________________________________________________________\n",
      " Layer (type)                Output Shape              Param #   \n",
      "=================================================================\n",
      " conv2d (Conv2D)             (None, 26, 26, 32)        320       \n",
      "                                                                 \n",
      " max_pooling2d (MaxPooling2D  (None, 13, 13, 32)       0         \n",
      " )                                                               \n",
      "                                                                 \n",
      " dropout (Dropout)           (None, 13, 13, 32)        0         \n",
      "                                                                 \n",
      " flatten (Flatten)           (None, 5408)              0         \n",
      "                                                                 \n",
      " dense (Dense)               (None, 128)               692352    \n",
      "                                                                 \n",
      " dropout_1 (Dropout)         (None, 128)               0         \n",
      "                                                                 \n",
      " dense_1 (Dense)             (None, 10)                1290      \n",
      "                                                                 \n",
      "=================================================================\n",
      "Total params: 693,962\n",
      "Trainable params: 693,962\n",
      "Non-trainable params: 0\n",
      "_________________________________________________________________\n"
     ]
    }
   ],
   "source": [
    "#Compile\n",
    "cnn_model1.compile(optimizer= Adam(learning_rate= 0.0001), loss='categorical_crossentropy', metrics=['accuracy'])\n",
    "cnn_model1.summary()"
   ]
  },
  {
   "cell_type": "code",
   "execution_count": 12,
   "id": "8a07415d",
   "metadata": {},
   "outputs": [
    {
     "name": "stdout",
     "output_type": "stream",
     "text": [
      "Epoch 1/50\n",
      "160/160 [==============================] - 23s 142ms/step - loss: 1.1793 - accuracy: 0.6251 - val_loss: 0.6510 - val_accuracy: 0.7851\n",
      "Epoch 2/50\n",
      "160/160 [==============================] - 21s 133ms/step - loss: 0.6421 - accuracy: 0.7779 - val_loss: 0.5237 - val_accuracy: 0.8178\n",
      "Epoch 3/50\n",
      "160/160 [==============================] - 20s 126ms/step - loss: 0.5506 - accuracy: 0.8075 - val_loss: 0.4783 - val_accuracy: 0.8282\n",
      "Epoch 4/50\n",
      "160/160 [==============================] - 20s 124ms/step - loss: 0.5045 - accuracy: 0.8233 - val_loss: 0.4388 - val_accuracy: 0.8477\n",
      "Epoch 5/50\n",
      "160/160 [==============================] - 20s 124ms/step - loss: 0.4691 - accuracy: 0.8376 - val_loss: 0.4150 - val_accuracy: 0.8537\n",
      "Epoch 6/50\n",
      "160/160 [==============================] - 21s 129ms/step - loss: 0.4472 - accuracy: 0.8447 - val_loss: 0.4006 - val_accuracy: 0.8581\n",
      "Epoch 7/50\n",
      "160/160 [==============================] - 20s 127ms/step - loss: 0.4314 - accuracy: 0.8484 - val_loss: 0.3876 - val_accuracy: 0.8627\n",
      "Epoch 8/50\n",
      "160/160 [==============================] - 21s 134ms/step - loss: 0.4146 - accuracy: 0.8541 - val_loss: 0.3780 - val_accuracy: 0.8647\n",
      "Epoch 9/50\n",
      "160/160 [==============================] - 22s 138ms/step - loss: 0.4023 - accuracy: 0.8569 - val_loss: 0.3672 - val_accuracy: 0.8702\n",
      "Epoch 10/50\n",
      "160/160 [==============================] - 29s 179ms/step - loss: 0.3907 - accuracy: 0.8635 - val_loss: 0.3566 - val_accuracy: 0.8712\n",
      "Epoch 11/50\n",
      "160/160 [==============================] - 23s 142ms/step - loss: 0.3810 - accuracy: 0.8670 - val_loss: 0.3519 - val_accuracy: 0.8736\n",
      "Epoch 12/50\n",
      "160/160 [==============================] - 22s 137ms/step - loss: 0.3731 - accuracy: 0.8703 - val_loss: 0.3490 - val_accuracy: 0.8752\n",
      "Epoch 13/50\n",
      "160/160 [==============================] - 23s 141ms/step - loss: 0.3668 - accuracy: 0.8712 - val_loss: 0.3396 - val_accuracy: 0.8802\n",
      "Epoch 14/50\n",
      "160/160 [==============================] - 24s 148ms/step - loss: 0.3570 - accuracy: 0.8735 - val_loss: 0.3341 - val_accuracy: 0.8788\n",
      "Epoch 15/50\n",
      "160/160 [==============================] - 29s 179ms/step - loss: 0.3515 - accuracy: 0.8767 - val_loss: 0.3338 - val_accuracy: 0.8810\n",
      "Epoch 16/50\n",
      "160/160 [==============================] - 29s 184ms/step - loss: 0.3475 - accuracy: 0.8785 - val_loss: 0.3222 - val_accuracy: 0.8848\n",
      "Epoch 17/50\n",
      "160/160 [==============================] - 28s 173ms/step - loss: 0.3395 - accuracy: 0.8802 - val_loss: 0.3201 - val_accuracy: 0.8847\n",
      "Epoch 18/50\n",
      "160/160 [==============================] - 27s 170ms/step - loss: 0.3342 - accuracy: 0.8833 - val_loss: 0.3198 - val_accuracy: 0.8855\n",
      "Epoch 19/50\n",
      "160/160 [==============================] - 30s 185ms/step - loss: 0.3312 - accuracy: 0.8830 - val_loss: 0.3142 - val_accuracy: 0.8864\n",
      "Epoch 20/50\n",
      "160/160 [==============================] - 30s 190ms/step - loss: 0.3268 - accuracy: 0.8846 - val_loss: 0.3077 - val_accuracy: 0.8898\n",
      "Epoch 21/50\n",
      "160/160 [==============================] - 28s 175ms/step - loss: 0.3200 - accuracy: 0.8873 - val_loss: 0.3062 - val_accuracy: 0.8900\n",
      "Epoch 22/50\n",
      "160/160 [==============================] - 26s 162ms/step - loss: 0.3172 - accuracy: 0.8874 - val_loss: 0.3022 - val_accuracy: 0.8922\n",
      "Epoch 23/50\n",
      "160/160 [==============================] - 27s 167ms/step - loss: 0.3130 - accuracy: 0.8889 - val_loss: 0.2983 - val_accuracy: 0.8924\n",
      "Epoch 24/50\n",
      "160/160 [==============================] - 26s 163ms/step - loss: 0.3088 - accuracy: 0.8904 - val_loss: 0.2963 - val_accuracy: 0.8937\n",
      "Epoch 25/50\n",
      "160/160 [==============================] - 28s 173ms/step - loss: 0.3070 - accuracy: 0.8912 - val_loss: 0.2925 - val_accuracy: 0.8969\n",
      "Epoch 26/50\n",
      "160/160 [==============================] - 28s 172ms/step - loss: 0.3019 - accuracy: 0.8930 - val_loss: 0.2889 - val_accuracy: 0.8964\n",
      "Epoch 27/50\n",
      "160/160 [==============================] - 26s 163ms/step - loss: 0.2984 - accuracy: 0.8941 - val_loss: 0.2893 - val_accuracy: 0.8959\n",
      "Epoch 28/50\n",
      "160/160 [==============================] - 26s 166ms/step - loss: 0.2964 - accuracy: 0.8956 - val_loss: 0.2866 - val_accuracy: 0.8968\n",
      "Epoch 29/50\n",
      "160/160 [==============================] - 26s 161ms/step - loss: 0.2914 - accuracy: 0.8964 - val_loss: 0.2859 - val_accuracy: 0.8965\n",
      "Epoch 30/50\n",
      "160/160 [==============================] - 26s 160ms/step - loss: 0.2878 - accuracy: 0.8990 - val_loss: 0.2808 - val_accuracy: 0.9005\n",
      "Epoch 31/50\n",
      "160/160 [==============================] - 29s 184ms/step - loss: 0.2855 - accuracy: 0.8973 - val_loss: 0.2786 - val_accuracy: 0.9022\n",
      "Epoch 32/50\n",
      "160/160 [==============================] - 27s 171ms/step - loss: 0.2826 - accuracy: 0.8996 - val_loss: 0.2779 - val_accuracy: 0.9013\n",
      "Epoch 33/50\n",
      "160/160 [==============================] - 28s 174ms/step - loss: 0.2803 - accuracy: 0.8999 - val_loss: 0.2773 - val_accuracy: 0.9018\n",
      "Epoch 34/50\n",
      "160/160 [==============================] - 27s 172ms/step - loss: 0.2774 - accuracy: 0.9008 - val_loss: 0.2749 - val_accuracy: 0.9026\n",
      "Epoch 35/50\n",
      "160/160 [==============================] - 28s 175ms/step - loss: 0.2732 - accuracy: 0.9027 - val_loss: 0.2721 - val_accuracy: 0.9019\n",
      "Epoch 36/50\n",
      "160/160 [==============================] - 28s 176ms/step - loss: 0.2722 - accuracy: 0.9024 - val_loss: 0.2713 - val_accuracy: 0.9019\n",
      "Epoch 37/50\n",
      "160/160 [==============================] - 28s 175ms/step - loss: 0.2707 - accuracy: 0.9040 - val_loss: 0.2693 - val_accuracy: 0.9052\n",
      "Epoch 38/50\n",
      "160/160 [==============================] - 28s 174ms/step - loss: 0.2680 - accuracy: 0.9048 - val_loss: 0.2670 - val_accuracy: 0.9054\n",
      "Epoch 39/50\n",
      "160/160 [==============================] - 27s 166ms/step - loss: 0.2634 - accuracy: 0.9065 - val_loss: 0.2644 - val_accuracy: 0.9055\n",
      "Epoch 40/50\n",
      "160/160 [==============================] - 28s 174ms/step - loss: 0.2631 - accuracy: 0.9063 - val_loss: 0.2638 - val_accuracy: 0.9060\n",
      "Epoch 41/50\n",
      "160/160 [==============================] - 29s 181ms/step - loss: 0.2600 - accuracy: 0.9084 - val_loss: 0.2634 - val_accuracy: 0.9057\n",
      "Epoch 42/50\n",
      "160/160 [==============================] - 28s 173ms/step - loss: 0.2576 - accuracy: 0.9083 - val_loss: 0.2607 - val_accuracy: 0.9067\n",
      "Epoch 43/50\n",
      "160/160 [==============================] - 30s 191ms/step - loss: 0.2554 - accuracy: 0.9088 - val_loss: 0.2612 - val_accuracy: 0.9067\n",
      "Epoch 44/50\n",
      "160/160 [==============================] - 32s 202ms/step - loss: 0.2527 - accuracy: 0.9095 - val_loss: 0.2589 - val_accuracy: 0.9076\n",
      "Epoch 45/50\n",
      "160/160 [==============================] - 44s 276ms/step - loss: 0.2491 - accuracy: 0.9098 - val_loss: 0.2573 - val_accuracy: 0.9078\n",
      "Epoch 46/50\n",
      "160/160 [==============================] - 46s 285ms/step - loss: 0.2489 - accuracy: 0.9112 - val_loss: 0.2574 - val_accuracy: 0.9087\n",
      "Epoch 47/50\n",
      "160/160 [==============================] - 51s 316ms/step - loss: 0.2471 - accuracy: 0.9112 - val_loss: 0.2562 - val_accuracy: 0.9086\n",
      "Epoch 48/50\n",
      "160/160 [==============================] - 30s 185ms/step - loss: 0.2447 - accuracy: 0.9141 - val_loss: 0.2530 - val_accuracy: 0.9084\n",
      "Epoch 49/50\n",
      "160/160 [==============================] - 27s 169ms/step - loss: 0.2415 - accuracy: 0.9140 - val_loss: 0.2534 - val_accuracy: 0.9083\n",
      "Epoch 50/50\n",
      "160/160 [==============================] - 28s 174ms/step - loss: 0.2414 - accuracy: 0.9135 - val_loss: 0.2510 - val_accuracy: 0.9097\n"
     ]
    }
   ],
   "source": [
    "history1 = cnn_model1.fit(X_train, y_train,\n",
    "          batch_size=300,\n",
    "          epochs=50,\n",
    "          verbose=1,\n",
    "          validation_data=(X_validate, y_validate))"
   ]
  },
  {
   "cell_type": "code",
   "execution_count": 14,
   "id": "65f59cdf",
   "metadata": {},
   "outputs": [
    {
     "name": "stdout",
     "output_type": "stream",
     "text": [
      "Test loss: 0.2467568814754486\n",
      "Test accuracy: 91.25000238418579\n"
     ]
    }
   ],
   "source": [
    "score1 = cnn_model1.evaluate(X_test, y_test, verbose=0)\n",
    "print('Test loss:', score1[0])\n",
    "print('Test accuracy:', score1[1]*100)"
   ]
  },
  {
   "cell_type": "code",
   "execution_count": 15,
   "id": "7ba3af62",
   "metadata": {},
   "outputs": [
    {
     "data": {
      "image/png": "[encoded data removed]",
      "text/plain": [
       "<Figure size 1296x576 with 2 Axes>"
      ]
     },
     "metadata": {
      "needs_background": "light"
     },
     "output_type": "display_data"
    }
   ],
   "source": [
    "plt.figure(figsize = (18,8))\n",
    "\n",
    "plt.subplot(121)\n",
    "plt.plot(history1.history['loss'], color='darkcyan', label=\"Training loss\")\n",
    "plt.plot(history1.history['val_loss'], color='maroon', label=\"validation loss\")\n",
    "plt.xlabel('Epochs')\n",
    "plt.ylabel('loss')\n",
    "plt.legend(loc='best', shadow=True)\n",
    "plt.title('1-Convolution Layer Loss')\n",
    "\n",
    "plt.subplot(122)\n",
    "plt.plot(history1.history['accuracy'], color='darkcyan', label=\"Training accuracy\")\n",
    "plt.plot(history1.history['val_accuracy'], color='maroon',label=\"Validation accuracy\")\n",
    "plt.xlabel('Epochs')\n",
    "plt.ylabel('accuracy')\n",
    "plt.legend(loc='best', shadow=True)\n",
    "plt.title('1-Convolution Layer Accuracy')\n",
    "plt.show()"
   ]
  },
  {
   "cell_type": "code",
   "execution_count": 16,
   "id": "88a412f8",
   "metadata": {},
   "outputs": [],
   "source": [
    "cnn_model1.save(\"cnn_model1.h5\")"
   ]
  },
  {
   "cell_type": "code",
   "execution_count": null,
   "id": "529311da",
   "metadata": {},
   "outputs": [],
   "source": []
  },
  {
   "cell_type": "code",
   "execution_count": 9,
   "id": "090a828c",
   "metadata": {},
   "outputs": [],
   "source": [
    "#CNN - 3 Convolution Layers\n",
    "\n",
    "cnn_model3 = Sequential()\n",
    "\n",
    "cnn_model3.add(Conv2D(32, kernel_size=(3, 3), activation='relu', input_shape=input_shape))\n",
    "cnn_model3.add(Conv2D(64, kernel_size=(3, 3), activation='relu'))\n",
    "cnn_model3.add(MaxPooling2D(pool_size=(2, 2)))\n",
    "cnn_model3.add(Conv2D(128, kernel_size=(3, 3), activation='relu'))\n",
    "cnn_model3.add(MaxPooling2D(pool_size=(2, 2)))\n",
    "\n",
    "cnn_model3.add(Dropout(0.3))\n",
    "cnn_model3.add(Flatten()) \n",
    "\n",
    "cnn_model3.add(Dense(128, activation='relu'))\n",
    "cnn_model3.add(Dropout(0.5))\n",
    "\n",
    "cnn_model3.add(Dense(256, activation='relu'))\n",
    "cnn_model3.add(Dropout(0.5))\n",
    "\n",
    "cnn_model3.add(Dense(10, activation='softmax'))"
   ]
  },
  {
   "cell_type": "code",
   "execution_count": 11,
   "id": "e272074c",
   "metadata": {
    "scrolled": true
   },
   "outputs": [
    {
     "name": "stdout",
     "output_type": "stream",
     "text": [
      "Model: \"sequential\"\n",
      "_________________________________________________________________\n",
      " Layer (type)                Output Shape              Param #   \n",
      "=================================================================\n",
      " conv2d (Conv2D)             (None, 26, 26, 32)        320       \n",
      "                                                                 \n",
      " conv2d_1 (Conv2D)           (None, 24, 24, 64)        18496     \n",
      "                                                                 \n",
      " max_pooling2d (MaxPooling2D  (None, 12, 12, 64)       0         \n",
      " )                                                               \n",
      "                                                                 \n",
      " conv2d_2 (Conv2D)           (None, 10, 10, 128)       73856     \n",
      "                                                                 \n",
      " max_pooling2d_1 (MaxPooling  (None, 5, 5, 128)        0         \n",
      " 2D)                                                             \n",
      "                                                                 \n",
      " dropout (Dropout)           (None, 5, 5, 128)         0         \n",
      "                                                                 \n",
      " flatten (Flatten)           (None, 3200)              0         \n",
      "                                                                 \n",
      " dense (Dense)               (None, 128)               409728    \n",
      "                                                                 \n",
      " dropout_1 (Dropout)         (None, 128)               0         \n",
      "                                                                 \n",
      " dense_1 (Dense)             (None, 256)               33024     \n",
      "                                                                 \n",
      " dropout_2 (Dropout)         (None, 256)               0         \n",
      "                                                                 \n",
      " dense_2 (Dense)             (None, 10)                2570      \n",
      "                                                                 \n",
      "=================================================================\n",
      "Total params: 537,994\n",
      "Trainable params: 537,994\n",
      "Non-trainable params: 0\n",
      "_________________________________________________________________\n"
     ]
    }
   ],
   "source": [
    "cnn_model3.compile(optimizer= Adam(learning_rate= 0.0001), loss='categorical_crossentropy', metrics=['accuracy'])\n",
    "cnn_model3.summary()\n"
   ]
  },
  {
   "cell_type": "code",
   "execution_count": 12,
   "id": "3d876962",
   "metadata": {},
   "outputs": [
    {
     "name": "stdout",
     "output_type": "stream",
     "text": [
      "Epoch 1/50\n",
      "160/160 [==============================] - 151s 934ms/step - loss: 1.5961 - accuracy: 0.4294 - val_loss: 0.7665 - val_accuracy: 0.7244\n",
      "Epoch 2/50\n",
      "160/160 [==============================] - 153s 954ms/step - loss: 0.8682 - accuracy: 0.6825 - val_loss: 0.6051 - val_accuracy: 0.7657\n",
      "Epoch 3/50\n",
      "160/160 [==============================] - 168s 1s/step - loss: 0.7354 - accuracy: 0.7269 - val_loss: 0.5512 - val_accuracy: 0.7831\n",
      "Epoch 4/50\n",
      "160/160 [==============================] - 167s 1s/step - loss: 0.6710 - accuracy: 0.7496 - val_loss: 0.5202 - val_accuracy: 0.7957\n",
      "Epoch 5/50\n",
      "160/160 [==============================] - 145s 904ms/step - loss: 0.6261 - accuracy: 0.7656 - val_loss: 0.4923 - val_accuracy: 0.8046\n",
      "Epoch 6/50\n",
      "160/160 [==============================] - 153s 954ms/step - loss: 0.5896 - accuracy: 0.7805 - val_loss: 0.4688 - val_accuracy: 0.8158\n",
      "Epoch 7/50\n",
      "160/160 [==============================] - 156s 973ms/step - loss: 0.5658 - accuracy: 0.7896 - val_loss: 0.4490 - val_accuracy: 0.8318\n",
      "Epoch 8/50\n",
      "160/160 [==============================] - 166s 1s/step - loss: 0.5426 - accuracy: 0.8000 - val_loss: 0.4294 - val_accuracy: 0.8431\n",
      "Epoch 9/50\n",
      "160/160 [==============================] - 185s 1s/step - loss: 0.5207 - accuracy: 0.8086 - val_loss: 0.4153 - val_accuracy: 0.8491\n",
      "Epoch 10/50\n",
      "160/160 [==============================] - 275s 2s/step - loss: 0.5029 - accuracy: 0.8166 - val_loss: 0.3990 - val_accuracy: 0.8558\n",
      "Epoch 11/50\n",
      "160/160 [==============================] - 201s 1s/step - loss: 0.4813 - accuracy: 0.8254 - val_loss: 0.3840 - val_accuracy: 0.8650\n",
      "Epoch 12/50\n",
      "160/160 [==============================] - 254s 2s/step - loss: 0.4685 - accuracy: 0.8314 - val_loss: 0.3743 - val_accuracy: 0.8660\n",
      "Epoch 13/50\n",
      "160/160 [==============================] - 248s 2s/step - loss: 0.4577 - accuracy: 0.8360 - val_loss: 0.3611 - val_accuracy: 0.8698\n",
      "Epoch 14/50\n",
      "160/160 [==============================] - 248s 2s/step - loss: 0.4388 - accuracy: 0.8432 - val_loss: 0.3541 - val_accuracy: 0.8717\n",
      "Epoch 15/50\n",
      "160/160 [==============================] - 251s 2s/step - loss: 0.4267 - accuracy: 0.8475 - val_loss: 0.3402 - val_accuracy: 0.8783\n",
      "Epoch 16/50\n",
      "160/160 [==============================] - 245s 2s/step - loss: 0.4204 - accuracy: 0.8515 - val_loss: 0.3370 - val_accuracy: 0.8807\n",
      "Epoch 17/50\n",
      "160/160 [==============================] - 243s 2s/step - loss: 0.4064 - accuracy: 0.8555 - val_loss: 0.3266 - val_accuracy: 0.8841\n",
      "Epoch 18/50\n",
      "160/160 [==============================] - 248s 2s/step - loss: 0.3973 - accuracy: 0.8591 - val_loss: 0.3202 - val_accuracy: 0.8842\n",
      "Epoch 19/50\n",
      "160/160 [==============================] - 263s 2s/step - loss: 0.3885 - accuracy: 0.8625 - val_loss: 0.3206 - val_accuracy: 0.8864\n",
      "Epoch 20/50\n",
      "160/160 [==============================] - 275s 2s/step - loss: 0.3794 - accuracy: 0.8663 - val_loss: 0.3088 - val_accuracy: 0.8873\n",
      "Epoch 21/50\n",
      "160/160 [==============================] - 267s 2s/step - loss: 0.3732 - accuracy: 0.8674 - val_loss: 0.3038 - val_accuracy: 0.8894\n",
      "Epoch 22/50\n",
      "160/160 [==============================] - 264s 2s/step - loss: 0.3634 - accuracy: 0.8702 - val_loss: 0.2983 - val_accuracy: 0.8907\n",
      "Epoch 23/50\n",
      "160/160 [==============================] - 264s 2s/step - loss: 0.3613 - accuracy: 0.8737 - val_loss: 0.2960 - val_accuracy: 0.8957\n",
      "Epoch 24/50\n",
      "160/160 [==============================] - 280s 2s/step - loss: 0.3532 - accuracy: 0.8760 - val_loss: 0.2901 - val_accuracy: 0.8953\n",
      "Epoch 25/50\n",
      "160/160 [==============================] - 263s 2s/step - loss: 0.3448 - accuracy: 0.8786 - val_loss: 0.2896 - val_accuracy: 0.8980\n",
      "Epoch 26/50\n",
      "160/160 [==============================] - 265s 2s/step - loss: 0.3424 - accuracy: 0.8794 - val_loss: 0.2831 - val_accuracy: 0.8959\n",
      "Epoch 27/50\n",
      "160/160 [==============================] - 273s 2s/step - loss: 0.3350 - accuracy: 0.8808 - val_loss: 0.2782 - val_accuracy: 0.8977\n",
      "Epoch 28/50\n",
      "160/160 [==============================] - 276s 2s/step - loss: 0.3340 - accuracy: 0.8843 - val_loss: 0.2764 - val_accuracy: 0.9003\n",
      "Epoch 29/50\n",
      "160/160 [==============================] - 267s 2s/step - loss: 0.3266 - accuracy: 0.8844 - val_loss: 0.2742 - val_accuracy: 0.9017\n",
      "Epoch 30/50\n",
      "160/160 [==============================] - 271s 2s/step - loss: 0.3224 - accuracy: 0.8862 - val_loss: 0.2704 - val_accuracy: 0.9024\n",
      "Epoch 31/50\n",
      "160/160 [==============================] - 265s 2s/step - loss: 0.3151 - accuracy: 0.8886 - val_loss: 0.2704 - val_accuracy: 0.9047\n",
      "Epoch 32/50\n",
      "160/160 [==============================] - 266s 2s/step - loss: 0.3100 - accuracy: 0.8910 - val_loss: 0.2620 - val_accuracy: 0.9052\n",
      "Epoch 33/50\n",
      "160/160 [==============================] - 269s 2s/step - loss: 0.3054 - accuracy: 0.8911 - val_loss: 0.2590 - val_accuracy: 0.9072\n",
      "Epoch 34/50\n",
      "160/160 [==============================] - 263s 2s/step - loss: 0.3037 - accuracy: 0.8933 - val_loss: 0.2606 - val_accuracy: 0.9060\n",
      "Epoch 35/50\n",
      "160/160 [==============================] - 261s 2s/step - loss: 0.2990 - accuracy: 0.8953 - val_loss: 0.2557 - val_accuracy: 0.9076\n",
      "Epoch 36/50\n",
      "160/160 [==============================] - 263s 2s/step - loss: 0.2965 - accuracy: 0.8954 - val_loss: 0.2536 - val_accuracy: 0.9062\n",
      "Epoch 37/50\n",
      "160/160 [==============================] - 255s 2s/step - loss: 0.2923 - accuracy: 0.8967 - val_loss: 0.2523 - val_accuracy: 0.9097\n",
      "Epoch 38/50\n",
      "160/160 [==============================] - 268s 2s/step - loss: 0.2890 - accuracy: 0.8980 - val_loss: 0.2493 - val_accuracy: 0.9094\n",
      "Epoch 39/50\n",
      "160/160 [==============================] - 269s 2s/step - loss: 0.2823 - accuracy: 0.9008 - val_loss: 0.2489 - val_accuracy: 0.9087\n",
      "Epoch 40/50\n",
      "160/160 [==============================] - 269s 2s/step - loss: 0.2788 - accuracy: 0.9031 - val_loss: 0.2497 - val_accuracy: 0.9098\n",
      "Epoch 41/50\n",
      "160/160 [==============================] - 281s 2s/step - loss: 0.2755 - accuracy: 0.9028 - val_loss: 0.2468 - val_accuracy: 0.9096\n",
      "Epoch 42/50\n",
      "160/160 [==============================] - 264s 2s/step - loss: 0.2723 - accuracy: 0.9045 - val_loss: 0.2412 - val_accuracy: 0.9113\n",
      "Epoch 43/50\n",
      "160/160 [==============================] - 259s 2s/step - loss: 0.2686 - accuracy: 0.9048 - val_loss: 0.2400 - val_accuracy: 0.9139\n",
      "Epoch 44/50\n",
      "160/160 [==============================] - 276s 2s/step - loss: 0.2650 - accuracy: 0.9041 - val_loss: 0.2390 - val_accuracy: 0.9129\n",
      "Epoch 45/50\n",
      "160/160 [==============================] - 270s 2s/step - loss: 0.2626 - accuracy: 0.9066 - val_loss: 0.2358 - val_accuracy: 0.9138\n",
      "Epoch 46/50\n",
      "160/160 [==============================] - 296s 2s/step - loss: 0.2616 - accuracy: 0.9073 - val_loss: 0.2353 - val_accuracy: 0.9143\n",
      "Epoch 47/50\n",
      "160/160 [==============================] - 278s 2s/step - loss: 0.2590 - accuracy: 0.9080 - val_loss: 0.2341 - val_accuracy: 0.9148\n",
      "Epoch 48/50\n",
      "160/160 [==============================] - 275s 2s/step - loss: 0.2576 - accuracy: 0.9102 - val_loss: 0.2332 - val_accuracy: 0.9147\n",
      "Epoch 49/50\n",
      "160/160 [==============================] - 273s 2s/step - loss: 0.2523 - accuracy: 0.9104 - val_loss: 0.2309 - val_accuracy: 0.9164\n",
      "Epoch 50/50\n",
      "160/160 [==============================] - 270s 2s/step - loss: 0.2510 - accuracy: 0.9105 - val_loss: 0.2325 - val_accuracy: 0.9159\n"
     ]
    }
   ],
   "source": [
    "history3 = cnn_model3.fit(X_train, y_train, batch_size=300, epochs=50, verbose=1, validation_data=(X_validate, y_validate))"
   ]
  },
  {
   "cell_type": "code",
   "execution_count": 13,
   "id": "496eaf63",
   "metadata": {},
   "outputs": [
    {
     "name": "stdout",
     "output_type": "stream",
     "text": [
      "Test loss: 0.2223663330078125\n",
      "Test accuracy: 91.79999828338623\n"
     ]
    }
   ],
   "source": [
    "score3 = cnn_model3.evaluate(X_test, y_test, verbose=0)\n",
    "print('Test loss:', score3[0])\n",
    "print('Test accuracy:', score3[1]*100)"
   ]
  },
  {
   "cell_type": "code",
   "execution_count": 14,
   "id": "8148de0c",
   "metadata": {},
   "outputs": [
    {
     "data": {
      "image/png": "[encoded data removed]",
      "text/plain": [
       "<Figure size 1296x576 with 2 Axes>"
      ]
     },
     "metadata": {
      "needs_background": "light"
     },
     "output_type": "display_data"
    }
   ],
   "source": [
    "plt.figure(figsize = (18,8))\n",
    "plt.subplot(121)\n",
    "plt.plot(history3.history['loss'], color='darkcyan', label=\"Training loss\")\n",
    "plt.plot(history3.history['val_loss'], color='maroon', label=\"validation loss\",)\n",
    "plt.xlabel('Epochs')\n",
    "plt.ylabel('loss')\n",
    "plt.legend(loc='best', shadow=True)\n",
    "plt.title('3-Convolution Layer Loss')\n",
    "\n",
    "plt.subplot(122)\n",
    "plt.plot(history3.history['accuracy'], color='darkcyan', label=\"Training accuracy\")\n",
    "plt.plot(history3.history['val_accuracy'], color='maroon',label=\"Validation accuracy\")\n",
    "plt.xlabel('Epochs')\n",
    "plt.ylabel('accuracy')\n",
    "plt.legend(loc='best', shadow=True)\n",
    "plt.title('3-Convolution Layer Accuracy')\n",
    "plt.show()"
   ]
  },
  {
   "cell_type": "code",
   "execution_count": 15,
   "id": "45aa2d4e",
   "metadata": {},
   "outputs": [],
   "source": [
    "cnn_model3.save(\"cnn_model3.h5\")"
   ]
  },
  {
   "cell_type": "code",
   "execution_count": null,
   "id": "d894f43c",
   "metadata": {},
   "outputs": [],
   "source": []
  },
  {
   "cell_type": "code",
   "execution_count": null,
   "id": "9aa88195",
   "metadata": {},
   "outputs": [],
   "source": []
  },
  {
   "cell_type": "code",
   "execution_count": 21,
   "id": "ddd6932d",
   "metadata": {},
   "outputs": [],
   "source": []
  },
  {
   "cell_type": "code",
   "execution_count": 22,
   "id": "48801548",
   "metadata": {},
   "outputs": [],
   "source": [
    "# converter = lite.TFLiteConverter.from_saved_model('cnn_model3.h5')\n",
    "# tflite_model = converter.convert()\n",
    "# open ('modell.tflite' , \"wb\").write(tfmodel)"
   ]
  },
  {
   "cell_type": "code",
   "execution_count": 24,
   "id": "497382a4",
   "metadata": {},
   "outputs": [
    {
     "name": "stderr",
     "output_type": "stream",
     "text": [
      "WARNING:absl:Found untraced functions such as _jit_compiled_convolution_op, _jit_compiled_convolution_op, _jit_compiled_convolution_op while saving (showing 3 of 3). These functions will not be directly callable after loading.\n"
     ]
    },
    {
     "name": "stdout",
     "output_type": "stream",
     "text": [
      "INFO:tensorflow:Assets written to: C:\\Users\\peddy\\AppData\\Local\\Temp\\tmpd6ekbt6m\\assets\n"
     ]
    },
    {
     "name": "stderr",
     "output_type": "stream",
     "text": [
      "INFO:tensorflow:Assets written to: C:\\Users\\peddy\\AppData\\Local\\Temp\\tmpd6ekbt6m\\assets\n"
     ]
    },
    {
     "data": {
      "text/plain": [
       "2156268"
      ]
     },
     "execution_count": 24,
     "metadata": {},
     "output_type": "execute_result"
    }
   ],
   "source": [
    "tflite_model = tf.keras.models.load_model('cnn_model3.h5')\n",
    "converter = tf.lite.TFLiteConverter.from_keras_model(tflite_model)\n",
    "tflite_save = converter.convert()\n",
    "open(\"generated.tflite\", \"wb\").write(tflite_save)"
   ]
  },
  {
   "cell_type": "code",
   "execution_count": null,
   "id": "91623623",
   "metadata": {},
   "outputs": [],
   "source": []
  },
  {
   "cell_type": "code",
   "execution_count": null,
   "id": "73c0878d",
   "metadata": {},
   "outputs": [],
   "source": []
  },
  {
   "cell_type": "code",
   "execution_count": null,
   "id": "f23cfd08",
   "metadata": {},
   "outputs": [],
   "source": []
  },
  {
   "cell_type": "code",
   "execution_count": null,
   "id": "f61ded4b",
   "metadata": {},
   "outputs": [],
   "source": [
    "class_names = [\"Class 0 > T-shirt\",\n",
    "               \"Class 1 > Trouser\",\n",
    "               \"Class 2 > Pullover\",\n",
    "               \"Class 3 > Dress\",\n",
    "               \"Class 4 > Coat\",\n",
    "               \"Class 5 > Sandal\",\n",
    "               \"Class 6 > Shirt\",\n",
    "               \"Class 7 > Sneaker\",\n",
    "               \"Class 8 > Bag\",\n",
    "               \"Class 9 > Ankle boot\"]\n",
    "print(classification_report(y_test, y_pred_classes, target_names=class_names))"
   ]
  },
  {
   "cell_type": "code",
   "execution_count": null,
   "id": "25ba50c9",
   "metadata": {},
   "outputs": [],
   "source": []
  },
  {
   "cell_type": "code",
   "execution_count": null,
   "id": "bf7fb8a1",
   "metadata": {},
   "outputs": [],
   "source": []
  },
  {
   "cell_type": "code",
   "execution_count": null,
   "id": "65df6eba",
   "metadata": {},
   "outputs": [],
   "source": []
  },
  {
   "cell_type": "code",
   "execution_count": null,
   "id": "b613b552",
   "metadata": {},
   "outputs": [],
   "source": []
  },
  {
   "cell_type": "code",
   "execution_count": null,
   "id": "45633ef4",
   "metadata": {},
   "outputs": [],
   "source": []
  },
  {
   "cell_type": "code",
   "execution_count": null,
   "id": "ca4ce4e1",
   "metadata": {},
   "outputs": [],
   "source": []
  }
 ],
 "metadata": {
  "kernelspec": {
   "display_name": "Python 3 (ipykernel)",
   "language": "python",
   "name": "python3"
  },
  "language_info": {
   "codemirror_mode": {
    "name": "ipython",
    "version": 3
   },
   "file_extension": ".py",
   "mimetype": "text/x-python",
   "name": "python",
   "nbconvert_exporter": "python",
   "pygments_lexer": "ipython3",
   "version": "3.9.12"
  }
 },
 "nbformat": 4,
 "nbformat_minor": 5
}
